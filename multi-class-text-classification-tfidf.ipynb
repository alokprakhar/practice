{
 "cells": [
  {
   "cell_type": "markdown",
   "metadata": {},
   "source": [
    "# Text classification (multiclass) "
   ]
  },
  {
   "cell_type": "markdown",
   "metadata": {},
   "source": [
    "# Table of Content\n",
    "\n",
    "* [Goal](#obj)\n",
    "* [Importing packages and loading data](#imp)\n",
    "* [Exploratory Data Analysis (EDA) and Feature Engineering](#eda)\n",
    "* [Text Preprocessing](#pre)\n",
    "* [Multi-Classification models](#ml)\n",
    "    * [Spliting the data: train and test](#sp)\n",
    "    * [Models](#m)\n",
    "* [Comparison of model performance](#sum)\n",
    "* [Model Evaluation](#ev)\n",
    "    * [Precision, Recall, F1-score](#f1)\n",
    "    * [Confusion Matrix](#cm)\n",
    "* [Predictions](#pred)"
   ]
  },
  {
   "cell_type": "markdown",
   "metadata": {},
   "source": [
    "<a id='obj'></a>\n",
    "## Goal:<br>\n",
    "Classify consumer complaints into predefined categories.<br><br>\n",
    "Credit reporting, repair, or other<br>\n",
    "Debt collection<br>\n",
    "Consumer Loan<br>\n",
    "Mortgage<br>\n",
    "\n",
    "Classification algorithms: Linear Support Vector Machine (LinearSVM), Random Forest, Multinomial Naive Bayes and Logistic Regression.<br><br>"
   ]
  },
  {
   "cell_type": "markdown",
   "metadata": {},
   "source": [
    "<a id='imp'></a>\n",
    "## Importing packages and loading data"
   ]
  },
  {
   "cell_type": "code",
   "execution_count": 1,
   "metadata": {
    "_cell_guid": "b1076dfc-b9ad-4769-8c92-a6c4dae69d19",
    "_uuid": "8f2839f25d086af736a60e9eeb907d3b93b6e0e5"
   },
   "outputs": [],
   "source": [
    "import os\n",
    "import pandas as pd\n",
    "import numpy as np\n",
    "from scipy.stats import randint\n",
    "import seaborn as sns # used for plot interactive graph. \n",
    "import matplotlib.pyplot as plt\n",
    "import seaborn as sns\n",
    "from io import StringIO\n",
    "from sklearn.feature_extraction.text import TfidfVectorizer\n",
    "from sklearn.feature_selection import chi2\n",
    "from IPython.display import display\n",
    "from sklearn.model_selection import train_test_split\n",
    "from sklearn.feature_extraction.text import TfidfTransformer\n",
    "from sklearn.naive_bayes import MultinomialNB\n",
    "from sklearn.linear_model import LogisticRegression\n",
    "from sklearn.ensemble import RandomForestClassifier\n",
    "from sklearn.svm import LinearSVC\n",
    "from sklearn.model_selection import cross_val_score\n",
    "from sklearn.metrics import confusion_matrix\n",
    "from sklearn import metrics\n",
    "import warnings\n",
    "warnings.filterwarnings(\"ignore\", category=FutureWarning)"
   ]
  },
  {
   "cell_type": "code",
   "execution_count": 2,
   "metadata": {},
   "outputs": [
    {
     "data": {
      "text/plain": [
       "(3562204, 18)"
      ]
     },
     "execution_count": 2,
     "metadata": {},
     "output_type": "execute_result"
    }
   ],
   "source": [
    "# loading data\n",
    "df=pd.read_csv(\"complaints.csv\", low_memory=False)\n",
    "df.shape"
   ]
  },
  {
   "cell_type": "markdown",
   "metadata": {},
   "source": [
    "We have more than 3 million instances (rows) and 18 features (columns)."
   ]
  },
  {
   "cell_type": "markdown",
   "metadata": {},
   "source": [
    "<a id='eda'></a>\n",
    "## Exploratory Data Analysis (EDA) and Feature Engineering"
   ]
  },
  {
   "cell_type": "code",
   "execution_count": 3,
   "metadata": {},
   "outputs": [
    {
     "data": {
      "text/html": [
       "<div>\n",
       "<style scoped>\n",
       "    .dataframe tbody tr th:only-of-type {\n",
       "        vertical-align: middle;\n",
       "    }\n",
       "\n",
       "    .dataframe tbody tr th {\n",
       "        vertical-align: top;\n",
       "    }\n",
       "\n",
       "    .dataframe thead th {\n",
       "        text-align: right;\n",
       "    }\n",
       "</style>\n",
       "<table border=\"1\" class=\"dataframe\">\n",
       "  <thead>\n",
       "    <tr style=\"text-align: right;\">\n",
       "      <th></th>\n",
       "      <th>0</th>\n",
       "      <th>1</th>\n",
       "    </tr>\n",
       "  </thead>\n",
       "  <tbody>\n",
       "    <tr>\n",
       "      <th>Date received</th>\n",
       "      <td>2023-04-14</td>\n",
       "      <td>2023-04-14</td>\n",
       "    </tr>\n",
       "    <tr>\n",
       "      <th>Product</th>\n",
       "      <td>Credit reporting, credit repair services, or o...</td>\n",
       "      <td>Credit reporting, credit repair services, or o...</td>\n",
       "    </tr>\n",
       "    <tr>\n",
       "      <th>Sub-product</th>\n",
       "      <td>Credit reporting</td>\n",
       "      <td>Credit reporting</td>\n",
       "    </tr>\n",
       "    <tr>\n",
       "      <th>Issue</th>\n",
       "      <td>Improper use of your report</td>\n",
       "      <td>Problem with a credit reporting company's inve...</td>\n",
       "    </tr>\n",
       "    <tr>\n",
       "      <th>Sub-issue</th>\n",
       "      <td>Reporting company used your report improperly</td>\n",
       "      <td>Their investigation did not fix an error on yo...</td>\n",
       "    </tr>\n",
       "    <tr>\n",
       "      <th>Consumer complaint narrative</th>\n",
       "      <td>NaN</td>\n",
       "      <td>NaN</td>\n",
       "    </tr>\n",
       "    <tr>\n",
       "      <th>Company public response</th>\n",
       "      <td>NaN</td>\n",
       "      <td>NaN</td>\n",
       "    </tr>\n",
       "    <tr>\n",
       "      <th>Company</th>\n",
       "      <td>Experian Information Solutions Inc.</td>\n",
       "      <td>Experian Information Solutions Inc.</td>\n",
       "    </tr>\n",
       "    <tr>\n",
       "      <th>State</th>\n",
       "      <td>TX</td>\n",
       "      <td>CA</td>\n",
       "    </tr>\n",
       "    <tr>\n",
       "      <th>ZIP code</th>\n",
       "      <td>75208</td>\n",
       "      <td>92886</td>\n",
       "    </tr>\n",
       "    <tr>\n",
       "      <th>Tags</th>\n",
       "      <td>NaN</td>\n",
       "      <td>NaN</td>\n",
       "    </tr>\n",
       "    <tr>\n",
       "      <th>Consumer consent provided?</th>\n",
       "      <td>NaN</td>\n",
       "      <td>NaN</td>\n",
       "    </tr>\n",
       "    <tr>\n",
       "      <th>Submitted via</th>\n",
       "      <td>Web</td>\n",
       "      <td>Web</td>\n",
       "    </tr>\n",
       "    <tr>\n",
       "      <th>Date sent to company</th>\n",
       "      <td>2023-04-14</td>\n",
       "      <td>2023-04-14</td>\n",
       "    </tr>\n",
       "    <tr>\n",
       "      <th>Company response to consumer</th>\n",
       "      <td>In progress</td>\n",
       "      <td>In progress</td>\n",
       "    </tr>\n",
       "    <tr>\n",
       "      <th>Timely response?</th>\n",
       "      <td>Yes</td>\n",
       "      <td>Yes</td>\n",
       "    </tr>\n",
       "    <tr>\n",
       "      <th>Consumer disputed?</th>\n",
       "      <td>NaN</td>\n",
       "      <td>NaN</td>\n",
       "    </tr>\n",
       "    <tr>\n",
       "      <th>Complaint ID</th>\n",
       "      <td>6838198</td>\n",
       "      <td>6834191</td>\n",
       "    </tr>\n",
       "  </tbody>\n",
       "</table>\n",
       "</div>"
      ],
      "text/plain": [
       "                                                                              0   \n",
       "Date received                                                        2023-04-14  \\\n",
       "Product                       Credit reporting, credit repair services, or o...   \n",
       "Sub-product                                                    Credit reporting   \n",
       "Issue                                               Improper use of your report   \n",
       "Sub-issue                         Reporting company used your report improperly   \n",
       "Consumer complaint narrative                                                NaN   \n",
       "Company public response                                                     NaN   \n",
       "Company                                     Experian Information Solutions Inc.   \n",
       "State                                                                        TX   \n",
       "ZIP code                                                                  75208   \n",
       "Tags                                                                        NaN   \n",
       "Consumer consent provided?                                                  NaN   \n",
       "Submitted via                                                               Web   \n",
       "Date sent to company                                                 2023-04-14   \n",
       "Company response to consumer                                        In progress   \n",
       "Timely response?                                                            Yes   \n",
       "Consumer disputed?                                                          NaN   \n",
       "Complaint ID                                                            6838198   \n",
       "\n",
       "                                                                              1  \n",
       "Date received                                                        2023-04-14  \n",
       "Product                       Credit reporting, credit repair services, or o...  \n",
       "Sub-product                                                    Credit reporting  \n",
       "Issue                         Problem with a credit reporting company's inve...  \n",
       "Sub-issue                     Their investigation did not fix an error on yo...  \n",
       "Consumer complaint narrative                                                NaN  \n",
       "Company public response                                                     NaN  \n",
       "Company                                     Experian Information Solutions Inc.  \n",
       "State                                                                        CA  \n",
       "ZIP code                                                                  92886  \n",
       "Tags                                                                        NaN  \n",
       "Consumer consent provided?                                                  NaN  \n",
       "Submitted via                                                               Web  \n",
       "Date sent to company                                                 2023-04-14  \n",
       "Company response to consumer                                        In progress  \n",
       "Timely response?                                                            Yes  \n",
       "Consumer disputed?                                                          NaN  \n",
       "Complaint ID                                                            6834191  "
      ]
     },
     "execution_count": 3,
     "metadata": {},
     "output_type": "execute_result"
    }
   ],
   "source": [
    "df.head(2).T # Columns are shown in rows for easy reading"
   ]
  },
  {
   "cell_type": "markdown",
   "metadata": {},
   "source": [
    "The dataset contains features that are not necessary to solve our multi-classification problem. For this text classification problem, we are going to build another dataframe that contains ‘Product’ and ‘Consumer complaint narrative’ (renamed as 'Consumer_complaint')."
   ]
  },
  {
   "cell_type": "code",
   "execution_count": 4,
   "metadata": {
    "_cell_guid": "79c7e3d0-c299-4dcb-8224-4455121ee9b0",
    "_uuid": "d629ff2d2480ee46fbb7e2d37f6b5fab8052498a"
   },
   "outputs": [
    {
     "data": {
      "text/plain": [
       "(952623, 2)"
      ]
     },
     "execution_count": 4,
     "metadata": {},
     "output_type": "execute_result"
    }
   ],
   "source": [
    "# Create a new dataframe with two columns\n",
    "df1 = df[['Product', 'Consumer complaint narrative']].copy()\n",
    "\n",
    "# select only relevant products\n",
    "df1 = df1[df['Product'].isin(['Credit reporting, credit repair services, or other personal consumer reports', 'Debt collection', 'Consumer Loan', 'Mortgage'])] \n",
    "\n",
    "# Remove missing values (NaN)\n",
    "df1 = df1[pd.notnull(df1['Consumer complaint narrative'])]\n",
    "\n",
    "# Renaming second column for a simpler name\n",
    "df1.columns = ['Product', 'Consumer_complaint'] \n",
    "\n",
    "df1.shape"
   ]
  },
  {
   "cell_type": "code",
   "execution_count": 5,
   "metadata": {},
   "outputs": [
    {
     "data": {
      "text/plain": [
       "26.7"
      ]
     },
     "execution_count": 5,
     "metadata": {},
     "output_type": "execute_result"
    }
   ],
   "source": [
    "# Percentage of complaints with text\n",
    "total = df1['Consumer_complaint'].notnull().sum()\n",
    "round((total/len(df)*100),1)"
   ]
  },
  {
   "cell_type": "markdown",
   "metadata": {},
   "source": [
    "From more than 3 million complaints, there are about 950,000 cases with text (~ 26% of the original dataset is not null). \n"
   ]
  },
  {
   "cell_type": "code",
   "execution_count": 6,
   "metadata": {},
   "outputs": [
    {
     "data": {
      "text/plain": [
       "array([['Credit reporting, credit repair services, or other personal consumer reports'],\n",
       "       ['Debt collection'],\n",
       "       ['Mortgage'],\n",
       "       ['Consumer Loan']], dtype=object)"
      ]
     },
     "execution_count": 6,
     "metadata": {},
     "output_type": "execute_result"
    }
   ],
   "source": [
    "pd.DataFrame(df1.Product.unique()).values"
   ]
  },
  {
   "cell_type": "markdown",
   "metadata": {},
   "source": [
    "There are 18 different classes or categories (target). However; it is observed that some classes are contained in others. For instance, ‘Credit card’ and ‘Prepaid card’ are contained in ‘Credit card or prepaid card’ category. Now, imagine there is a new complaint about Credit card and we want to classify it. The algorithm can either classify this complaint as 'Credit card' or 'Credit card or prepaid' and it would be correct. Nevertheless, this would affect model performance. In order to avoid this problem, the names of some categories were renamed."
   ]
  },
  {
   "cell_type": "code",
   "execution_count": 7,
   "metadata": {},
   "outputs": [],
   "source": [
    "# Because the computation is time consuming (in terms of CPU), the data was sampled\n",
    "df2 = df1.sample(10000, random_state=1).copy()"
   ]
  },
  {
   "cell_type": "code",
   "execution_count": 8,
   "metadata": {},
   "outputs": [],
   "source": [
    "# Renaming categories\n",
    "df2.replace({'Product': \n",
    "             {'Credit reporting, credit repair services, or other personal consumer reports': \n",
    "              'Credit reporting, repair, or other', \n",
    "              'Credit reporting': 'Credit reporting, repair, or other',\n",
    "             'Credit card': 'Credit card or prepaid card',\n",
    "             'Prepaid card': 'Credit card or prepaid card',\n",
    "             'Payday loan': 'Payday loan, title loan, or personal loan',\n",
    "             'Money transfer': 'Money transfer, virtual currency, or money service',\n",
    "             'Virtual currency': 'Money transfer, virtual currency, or money service'}}, \n",
    "            inplace= True)"
   ]
  },
  {
   "cell_type": "code",
   "execution_count": 9,
   "metadata": {},
   "outputs": [
    {
     "data": {
      "text/html": [
       "<div>\n",
       "<style scoped>\n",
       "    .dataframe tbody tr th:only-of-type {\n",
       "        vertical-align: middle;\n",
       "    }\n",
       "\n",
       "    .dataframe tbody tr th {\n",
       "        vertical-align: top;\n",
       "    }\n",
       "\n",
       "    .dataframe thead th {\n",
       "        text-align: right;\n",
       "    }\n",
       "</style>\n",
       "<table border=\"1\" class=\"dataframe\">\n",
       "  <thead>\n",
       "    <tr style=\"text-align: right;\">\n",
       "      <th></th>\n",
       "      <th>0</th>\n",
       "    </tr>\n",
       "  </thead>\n",
       "  <tbody>\n",
       "    <tr>\n",
       "      <th>0</th>\n",
       "      <td>Credit reporting, repair, or other</td>\n",
       "    </tr>\n",
       "    <tr>\n",
       "      <th>1</th>\n",
       "      <td>Mortgage</td>\n",
       "    </tr>\n",
       "    <tr>\n",
       "      <th>2</th>\n",
       "      <td>Debt collection</td>\n",
       "    </tr>\n",
       "    <tr>\n",
       "      <th>3</th>\n",
       "      <td>Consumer Loan</td>\n",
       "    </tr>\n",
       "  </tbody>\n",
       "</table>\n",
       "</div>"
      ],
      "text/plain": [
       "                                    0\n",
       "0  Credit reporting, repair, or other\n",
       "1                            Mortgage\n",
       "2                     Debt collection\n",
       "3                       Consumer Loan"
      ]
     },
     "execution_count": 9,
     "metadata": {},
     "output_type": "execute_result"
    }
   ],
   "source": [
    "pd.DataFrame(df2.Product.unique())"
   ]
  },
  {
   "cell_type": "markdown",
   "metadata": {},
   "source": [
    "The number of classes were reduced. <br><br>Now we need to represent each class as a number, so as our predictive model can better understand the different categories."
   ]
  },
  {
   "cell_type": "code",
   "execution_count": 10,
   "metadata": {},
   "outputs": [
    {
     "data": {
      "text/html": [
       "<div>\n",
       "<style scoped>\n",
       "    .dataframe tbody tr th:only-of-type {\n",
       "        vertical-align: middle;\n",
       "    }\n",
       "\n",
       "    .dataframe tbody tr th {\n",
       "        vertical-align: top;\n",
       "    }\n",
       "\n",
       "    .dataframe thead th {\n",
       "        text-align: right;\n",
       "    }\n",
       "</style>\n",
       "<table border=\"1\" class=\"dataframe\">\n",
       "  <thead>\n",
       "    <tr style=\"text-align: right;\">\n",
       "      <th></th>\n",
       "      <th>Product</th>\n",
       "      <th>Consumer_complaint</th>\n",
       "      <th>category_id</th>\n",
       "    </tr>\n",
       "  </thead>\n",
       "  <tbody>\n",
       "    <tr>\n",
       "      <th>3006235</th>\n",
       "      <td>Credit reporting, repair, or other</td>\n",
       "      <td>I received a copy of my credit report and ther...</td>\n",
       "      <td>0</td>\n",
       "    </tr>\n",
       "    <tr>\n",
       "      <th>765779</th>\n",
       "      <td>Credit reporting, repair, or other</td>\n",
       "      <td>Fedloan still reporting on credit report even ...</td>\n",
       "      <td>0</td>\n",
       "    </tr>\n",
       "    <tr>\n",
       "      <th>3402677</th>\n",
       "      <td>Mortgage</td>\n",
       "      <td>Out of the blue my 9 : year mortgage payment w...</td>\n",
       "      <td>1</td>\n",
       "    </tr>\n",
       "    <tr>\n",
       "      <th>3159555</th>\n",
       "      <td>Credit reporting, repair, or other</td>\n",
       "      <td>Im submitting a complaint to you today to info...</td>\n",
       "      <td>0</td>\n",
       "    </tr>\n",
       "    <tr>\n",
       "      <th>2937836</th>\n",
       "      <td>Credit reporting, repair, or other</td>\n",
       "      <td>To whomever can help me receive results. \\nI h...</td>\n",
       "      <td>0</td>\n",
       "    </tr>\n",
       "  </tbody>\n",
       "</table>\n",
       "</div>"
      ],
      "text/plain": [
       "                                    Product   \n",
       "3006235  Credit reporting, repair, or other  \\\n",
       "765779   Credit reporting, repair, or other   \n",
       "3402677                            Mortgage   \n",
       "3159555  Credit reporting, repair, or other   \n",
       "2937836  Credit reporting, repair, or other   \n",
       "\n",
       "                                        Consumer_complaint  category_id  \n",
       "3006235  I received a copy of my credit report and ther...            0  \n",
       "765779   Fedloan still reporting on credit report even ...            0  \n",
       "3402677  Out of the blue my 9 : year mortgage payment w...            1  \n",
       "3159555  Im submitting a complaint to you today to info...            0  \n",
       "2937836  To whomever can help me receive results. \\nI h...            0  "
      ]
     },
     "execution_count": 10,
     "metadata": {},
     "output_type": "execute_result"
    }
   ],
   "source": [
    "# Create a new column 'category_id' with encoded categories \n",
    "df2['category_id'] = df2['Product'].factorize()[0]\n",
    "category_id_df = df2[['Product', 'category_id']].drop_duplicates()\n",
    "\n",
    "\n",
    "# Dictionaries for future use\n",
    "category_to_id = dict(category_id_df.values)\n",
    "id_to_category = dict(category_id_df[['category_id', 'Product']].values)\n",
    "\n",
    "# New dataframe\n",
    "df2.head()"
   ]
  },
  {
   "cell_type": "markdown",
   "metadata": {},
   "source": [
    "The bar chart below shows the number of complaints per category. It can be observed that The bar chart below shows the number of complaints per category. It can be observed that most of customer complaints are due to:\n",
    "* credit reporting, credit repair\n",
    "* debt collection \n",
    "* mortgage "
   ]
  },
  {
   "cell_type": "code",
   "execution_count": 11,
   "metadata": {},
   "outputs": [
    {
     "data": {
      "image/png": "[encoded data removed]",
      "text/plain": [
       "<Figure size 800x600 with 1 Axes>"
      ]
     },
     "metadata": {},
     "output_type": "display_data"
    }
   ],
   "source": [
    "fig = plt.figure(figsize=(8,6))\n",
    "colors = ['grey','grey','grey','grey','grey','grey','grey','grey','grey',\n",
    "    'grey','darkblue','darkblue','darkblue']\n",
    "df2.groupby('Product').Consumer_complaint.count().sort_values().plot.barh(\n",
    "    ylim=0, color=colors, title= 'NUMBER OF COMPLAINTS IN EACH PRODUCT CATEGORY\\n')\n",
    "plt.xlabel('Number of ocurrences', fontsize = 10);"
   ]
  },
  {
   "cell_type": "markdown",
   "metadata": {},
   "source": [
    "<a id='pre'></a>\n",
    "## Text Preprocessing\n",
    "\n",
    "The text needs to be transformed to vectors so as the algorithms will be able make predictions. In this case it will be used the Term Frequency – Inverse Document Frequency (TFIDF) weight to evaluate __how important a word is to a document in a collection of documents__.\n",
    "\n",
    "After removing __punctuation__ and __lower casing__ the words, importance of a word is determined in terms of its frequency."
   ]
  },
  {
   "cell_type": "markdown",
   "metadata": {},
   "source": [
    "### “Term Frequency – Inverse Document Frequency \n",
    "\n",
    "__TF-IDF__ is the product of the __TF__ and __IDF__ scores of the term.<br><br> $$\\text{TF-IDF}=\\frac{\\text{TF}}{\\text{IDF}}$$<br>\n",
    "\n",
    "__Term Frequency :__ This summarizes how often a given word appears within a document.\n",
    "\n",
    "$$\\text{TF} = \\frac{\\text{Number of times the term appears in the doc}}{\\text{Total number of words in the doc}}$$<br><br>\n",
    "__Inverse Document Frequency:__ This downscales words that appear a lot across documents. A term has a high IDF score if it appears in a few documents. Conversely, if the term is very common among documents (i.e., “the”, “a”, “is”), the term would have a low IDF score.<br>\n",
    "\n",
    "$$\\text{IDF} = \\ln\\left(\\frac{\\text{Number of docs}}{\\text{Number docs the term appears in}} \\right)$$<br>\n",
    "\n",
    "TF-IDF are word frequency scores that try to highlight words that are more interesting, e.g. frequent in a document but not across documents. The higher the TFIDF score, the rarer the term is. For instance, in a Mortgage complaint the word _mortgage_ would be mentioned fairly often. However, if we look at other complaints, _mortgage_ probably would not show up in many of them. We can infer that _mortgage_ is most probably an important word in Mortgage complaints as compared to the other products. Therefore, _mortgage_ would have a high TF-IDF score for Mortgage complaints.\n",
    "\n",
    "TfidfVectorizer class can be initialized with the following parameters:\n",
    "* __min_df__: remove the words from the vocabulary which have occurred in less than ‘min_df’ number of files.\n",
    "* __max_df__: remove the words from the vocabulary which have occurred in more than _‘max_df’ * total number of files in corpus_.\n",
    "* __sublinear_tf__: set to True to scale the term frequency in logarithmic scale.\n",
    "* __stop_words__: remove the predefined stop words in 'english'.\n",
    "* __use_idf__: weight factor must use inverse document frequency.\n",
    "* __ngram_range__: (1, 2) to indicate that unigrams and bigrams will be considered."
   ]
  },
  {
   "cell_type": "code",
   "execution_count": 12,
   "metadata": {},
   "outputs": [
    {
     "name": "stdout",
     "output_type": "stream",
     "text": [
      "Each of the 10000 complaints is represented by 24978 features (TF-IDF score of unigrams and bigrams)\n"
     ]
    }
   ],
   "source": [
    "tfidf = TfidfVectorizer(sublinear_tf=True, min_df=5,\n",
    "                        ngram_range=(1, 2), \n",
    "                        stop_words='english')\n",
    "\n",
    "# We transform each complaint into a vector\n",
    "features = tfidf.fit_transform(df2.Consumer_complaint).toarray()\n",
    "\n",
    "labels = df2.category_id\n",
    "\n",
    "print(\"Each of the %d complaints is represented by %d features (TF-IDF score of unigrams and bigrams)\" %(features.shape))"
   ]
  },
  {
   "cell_type": "code",
   "execution_count": 13,
   "metadata": {},
   "outputs": [
    {
     "name": "stdout",
     "output_type": "stream",
     "text": [
      "\n",
      "==> Consumer Loan:\n",
      "  * Most Correlated Unigrams are: santander, car, vehicle\n",
      "  * Most Correlated Bigrams are: stop payment, capital auto, santander consumer\n",
      "\n",
      "==> Credit reporting, repair, or other:\n",
      "  * Most Correlated Unigrams are: section, mortgage, debt\n",
      "  * Most Correlated Bigrams are: consumer reporting, 15 1681, 1681 section\n",
      "\n",
      "==> Debt collection:\n",
      "  * Most Correlated Unigrams are: collect, collection, debt\n",
      "  * Most Correlated Bigrams are: trying collect, collect debt, collection agency\n",
      "\n",
      "==> Mortgage:\n",
      "  * Most Correlated Unigrams are: modification, escrow, mortgage\n",
      "  * Most Correlated Bigrams are: loan modification, wells fargo, mortgage company\n"
     ]
    }
   ],
   "source": [
    "# Finding the three most correlated terms with each of the product categories\n",
    "N = 3\n",
    "for Product, category_id in sorted(category_to_id.items()):\n",
    "  features_chi2 = chi2(features, labels == category_id)\n",
    "  indices = np.argsort(features_chi2[0])\n",
    "  feature_names = np.array(tfidf.get_feature_names())[indices]\n",
    "  unigrams = [v for v in feature_names if len(v.split(' ')) == 1]\n",
    "  bigrams = [v for v in feature_names if len(v.split(' ')) == 2]\n",
    "  print(\"\\n==> %s:\" %(Product))\n",
    "  print(\"  * Most Correlated Unigrams are: %s\" %(', '.join(unigrams[-N:])))\n",
    "  print(\"  * Most Correlated Bigrams are: %s\" %(', '.join(bigrams[-N:])))"
   ]
  },
  {
   "cell_type": "markdown",
   "metadata": {},
   "source": [
    "<a id='ml'></a>\n",
    "## Multi-Classification models\n",
    "\n",
    "The classification models evaluated are: \n",
    "* Random Forest\n",
    "* Linear Support Vector Machine\n",
    "* Multinomial Naive Bayes \n",
    "* Logistic Regression."
   ]
  },
  {
   "cell_type": "markdown",
   "metadata": {},
   "source": [
    "<a id='sp'></a>\n",
    "### Spliting the data into train and test sets\n",
    "The original data was divided into features (X) and target (y), which were then splitted into train (75%) and test (25%) sets. Thus, the algorithms would be trained on one set of data and tested out on a completely different set of data (not seen before by the algorithm)."
   ]
  },
  {
   "cell_type": "code",
   "execution_count": 14,
   "metadata": {},
   "outputs": [],
   "source": [
    "X = df2['Consumer_complaint'] # Collection of documents\n",
    "y = df2['Product'] # Target or the labels we want to predict (i.e., the 13 different complaints of products)\n",
    "\n",
    "X_train, X_test, y_train, y_test = train_test_split(X, y, \n",
    "                                                    test_size=0.25,\n",
    "                                                    random_state = 0)"
   ]
  },
  {
   "cell_type": "markdown",
   "metadata": {},
   "source": [
    "<a id='m'></a>\n",
    "### Models"
   ]
  },
  {
   "cell_type": "code",
   "execution_count": 15,
   "metadata": {},
   "outputs": [],
   "source": [
    "models = [\n",
    "    RandomForestClassifier(n_estimators=100, max_depth=5, random_state=0),\n",
    "    LinearSVC(),\n",
    "    MultinomialNB(),\n",
    "    LogisticRegression(random_state=0),\n",
    "]\n",
    "\n",
    "# 5 Cross-validation\n",
    "CV = 5\n",
    "cv_df = pd.DataFrame(index=range(CV * len(models)))\n",
    "\n",
    "entries = []\n",
    "for model in models:\n",
    "  model_name = model.__class__.__name__\n",
    "  accuracies = cross_val_score(model, features, labels, scoring='accuracy', cv=CV)\n",
    "  for fold_idx, accuracy in enumerate(accuracies):\n",
    "    entries.append((model_name, fold_idx, accuracy))\n",
    "    \n",
    "cv_df = pd.DataFrame(entries, columns=['model_name', 'fold_idx', 'accuracy'])"
   ]
  },
  {
   "cell_type": "markdown",
   "metadata": {},
   "source": [
    "<a id='sum'></a>\n",
    "## Comparison of model performance\n",
    "\n",
    "The best mean acuracy was obtained with LinearSVC."
   ]
  },
  {
   "cell_type": "code",
   "execution_count": 16,
   "metadata": {},
   "outputs": [
    {
     "data": {
      "text/html": [
       "<div>\n",
       "<style scoped>\n",
       "    .dataframe tbody tr th:only-of-type {\n",
       "        vertical-align: middle;\n",
       "    }\n",
       "\n",
       "    .dataframe tbody tr th {\n",
       "        vertical-align: top;\n",
       "    }\n",
       "\n",
       "    .dataframe thead th {\n",
       "        text-align: right;\n",
       "    }\n",
       "</style>\n",
       "<table border=\"1\" class=\"dataframe\">\n",
       "  <thead>\n",
       "    <tr style=\"text-align: right;\">\n",
       "      <th></th>\n",
       "      <th>Mean Accuracy</th>\n",
       "      <th>Standard deviation</th>\n",
       "    </tr>\n",
       "    <tr>\n",
       "      <th>model_name</th>\n",
       "      <th></th>\n",
       "      <th></th>\n",
       "    </tr>\n",
       "  </thead>\n",
       "  <tbody>\n",
       "    <tr>\n",
       "      <th>LinearSVC</th>\n",
       "      <td>0.8960</td>\n",
       "      <td>0.001969</td>\n",
       "    </tr>\n",
       "    <tr>\n",
       "      <th>LogisticRegression</th>\n",
       "      <td>0.8912</td>\n",
       "      <td>0.004132</td>\n",
       "    </tr>\n",
       "    <tr>\n",
       "      <th>MultinomialNB</th>\n",
       "      <td>0.8645</td>\n",
       "      <td>0.007770</td>\n",
       "    </tr>\n",
       "    <tr>\n",
       "      <th>RandomForestClassifier</th>\n",
       "      <td>0.6600</td>\n",
       "      <td>0.001173</td>\n",
       "    </tr>\n",
       "  </tbody>\n",
       "</table>\n",
       "</div>"
      ],
      "text/plain": [
       "                        Mean Accuracy  Standard deviation\n",
       "model_name                                               \n",
       "LinearSVC                      0.8960            0.001969\n",
       "LogisticRegression             0.8912            0.004132\n",
       "MultinomialNB                  0.8645            0.007770\n",
       "RandomForestClassifier         0.6600            0.001173"
      ]
     },
     "execution_count": 16,
     "metadata": {},
     "output_type": "execute_result"
    }
   ],
   "source": [
    "mean_accuracy = cv_df.groupby('model_name').accuracy.mean()\n",
    "std_accuracy = cv_df.groupby('model_name').accuracy.std()\n",
    "\n",
    "acc = pd.concat([mean_accuracy, std_accuracy], axis= 1, \n",
    "          ignore_index=True)\n",
    "acc.columns = ['Mean Accuracy', 'Standard deviation']\n",
    "acc"
   ]
  },
  {
   "cell_type": "code",
   "execution_count": 17,
   "metadata": {},
   "outputs": [
    {
     "data": {
      "image/png": "[encoded data removed]",
      "text/plain": [
       "<Figure size 800x500 with 1 Axes>"
      ]
     },
     "metadata": {},
     "output_type": "display_data"
    }
   ],
   "source": [
    "plt.figure(figsize=(8,5))\n",
    "sns.boxplot(x='model_name', y='accuracy', \n",
    "            data=cv_df, \n",
    "            color='lightblue', \n",
    "        \n",
    "            showmeans=True)\n",
    "plt.title(\"MEAN ACCURACY (cv = 5)\\n\", size=14);"
   ]
  },
  {
   "cell_type": "markdown",
   "metadata": {},
   "source": [
    "<a id='ev'></a>\n",
    "## Model Evaluation"
   ]
  },
  {
   "cell_type": "code",
   "execution_count": 18,
   "metadata": {},
   "outputs": [],
   "source": [
    "X_train, X_test, y_train, y_test,indices_train,indices_test = train_test_split(features, \n",
    "                                                               labels, \n",
    "                                                               df2.index, test_size=0.25, \n",
    "                                                               random_state=1)\n",
    "model = LinearSVC()\n",
    "model.fit(X_train, y_train)\n",
    "y_pred = model.predict(X_test)"
   ]
  },
  {
   "cell_type": "markdown",
   "metadata": {},
   "source": [
    "<a id='m'></a>\n",
    "### Precision, Recall, F1-score"
   ]
  },
  {
   "cell_type": "code",
   "execution_count": 19,
   "metadata": {},
   "outputs": [
    {
     "name": "stdout",
     "output_type": "stream",
     "text": [
      "\t\t\t\tCLASSIFICATIION METRICS\n",
      "\n",
      "                                    precision    recall  f1-score   support\n",
      "\n",
      "Credit reporting, repair, or other       0.92      0.95      0.93      1644\n",
      "                          Mortgage       0.90      0.94      0.92       282\n",
      "                   Debt collection       0.86      0.77      0.81       555\n",
      "                     Consumer Loan       0.50      0.05      0.10        19\n",
      "\n",
      "                          accuracy                           0.90      2500\n",
      "                         macro avg       0.79      0.68      0.69      2500\n",
      "                      weighted avg       0.90      0.90      0.90      2500\n",
      "\n"
     ]
    }
   ],
   "source": [
    "# Classification report\n",
    "print('\\t\\t\\t\\tCLASSIFICATIION METRICS\\n')\n",
    "print(metrics.classification_report(y_test, y_pred, \n",
    "                                    target_names= df2['Product'].unique()))"
   ]
  },
  {
   "cell_type": "markdown",
   "metadata": {},
   "source": [
    "It is possible to observe that the classes with more support (number of occurrences) tend to have a better f1-cscore. This is because the algorithm was trained with more data.<br><br>\n",
    "The classes that can be classified with more precision are __‘Mortgage’__, __‘Credit reporting, repair, or other’__, and __‘Debt collection’__."
   ]
  },
  {
   "cell_type": "markdown",
   "metadata": {},
   "source": [
    "<a id='cm'></a>\n",
    "### Confusion Matrix\n",
    "\n",
    "A Confusion Matrix is a table which rows represent the actual class and columns represents the predicted class.<br><br>\n",
    "If we had a perfect model that always classifies correctly a new complaint, then the confusion matrix would have values in the diagonal only (where predicted label = actual label)."
   ]
  },
  {
   "cell_type": "code",
   "execution_count": 20,
   "metadata": {},
   "outputs": [
    {
     "data": {
      "image/png": "[encoded data removed]",
      "text/plain": [
       "<Figure size 800x800 with 2 Axes>"
      ]
     },
     "metadata": {},
     "output_type": "display_data"
    }
   ],
   "source": [
    "conf_mat = confusion_matrix(y_test, y_pred)\n",
    "fig, ax = plt.subplots(figsize=(8,8))\n",
    "sns.heatmap(conf_mat, annot=True, cmap=\"Blues\", fmt='d',\n",
    "            xticklabels=category_id_df.Product.values, \n",
    "            yticklabels=category_id_df.Product.values)\n",
    "plt.ylabel('Actual')\n",
    "plt.xlabel('Predicted')\n",
    "plt.title(\"CONFUSION MATRIX - LinearSVC\\n\", size=16);"
   ]
  },
  {
   "cell_type": "markdown",
   "metadata": {},
   "source": [
    "In general, the confusion matrix looks good (clear diagonal that represents correct classifications). Nevertheless, there are cases were the complaint was classified in a wrong class.\n",
    "\n",
    "#### Misclassified complaints\n",
    "Let’s have a look at the cases that were wrongly classified."
   ]
  },
  {
   "cell_type": "code",
   "execution_count": 21,
   "metadata": {},
   "outputs": [
    {
     "name": "stdout",
     "output_type": "stream",
     "text": [
      "'Debt collection' predicted as 'Credit reporting, repair, or other' : 122 examples.\n"
     ]
    },
    {
     "data": {
      "text/html": [
       "<div>\n",
       "<style scoped>\n",
       "    .dataframe tbody tr th:only-of-type {\n",
       "        vertical-align: middle;\n",
       "    }\n",
       "\n",
       "    .dataframe tbody tr th {\n",
       "        vertical-align: top;\n",
       "    }\n",
       "\n",
       "    .dataframe thead th {\n",
       "        text-align: right;\n",
       "    }\n",
       "</style>\n",
       "<table border=\"1\" class=\"dataframe\">\n",
       "  <thead>\n",
       "    <tr style=\"text-align: right;\">\n",
       "      <th></th>\n",
       "      <th>Product</th>\n",
       "      <th>Consumer_complaint</th>\n",
       "    </tr>\n",
       "  </thead>\n",
       "  <tbody>\n",
       "    <tr>\n",
       "      <th>476725</th>\n",
       "      <td>Debt collection</td>\n",
       "      <td>On XX/XX/2020, I emailed the following to Ad A...</td>\n",
       "    </tr>\n",
       "    <tr>\n",
       "      <th>1974420</th>\n",
       "      <td>Debt collection</td>\n",
       "      <td>This account was placed with XXXX XXXX XXXX XX...</td>\n",
       "    </tr>\n",
       "    <tr>\n",
       "      <th>1514973</th>\n",
       "      <td>Debt collection</td>\n",
       "      <td>I 've just chosen the largest umbrella issue t...</td>\n",
       "    </tr>\n",
       "    <tr>\n",
       "      <th>1291075</th>\n",
       "      <td>Debt collection</td>\n",
       "      <td>On Thursday XX/XX/XXXX a suspicious charge to ...</td>\n",
       "    </tr>\n",
       "    <tr>\n",
       "      <th>3510356</th>\n",
       "      <td>Debt collection</td>\n",
       "      <td>On XX/XX/2022, USCB AMERICA added a derogatory...</td>\n",
       "    </tr>\n",
       "    <tr>\n",
       "      <th>...</th>\n",
       "      <td>...</td>\n",
       "      <td>...</td>\n",
       "    </tr>\n",
       "    <tr>\n",
       "      <th>66242</th>\n",
       "      <td>Debt collection</td>\n",
       "      <td>XX/XX/2022, I previously notified you that I a...</td>\n",
       "    </tr>\n",
       "    <tr>\n",
       "      <th>1271584</th>\n",
       "      <td>Debt collection</td>\n",
       "      <td>I was a victim of violent crime. I am not resp...</td>\n",
       "    </tr>\n",
       "    <tr>\n",
       "      <th>2837444</th>\n",
       "      <td>Debt collection</td>\n",
       "      <td>I recently pulled a copy of my credit report a...</td>\n",
       "    </tr>\n",
       "    <tr>\n",
       "      <th>1851761</th>\n",
       "      <td>Debt collection</td>\n",
       "      <td>Transworld continues to hurt my credit by sayi...</td>\n",
       "    </tr>\n",
       "    <tr>\n",
       "      <th>1245467</th>\n",
       "      <td>Debt collection</td>\n",
       "      <td>XXXX XXXX  XXXX XXXX XXXX XXXX XXXX XXXX XXXX ...</td>\n",
       "    </tr>\n",
       "  </tbody>\n",
       "</table>\n",
       "<p>122 rows × 2 columns</p>\n",
       "</div>"
      ],
      "text/plain": [
       "                 Product                                 Consumer_complaint\n",
       "476725   Debt collection  On XX/XX/2020, I emailed the following to Ad A...\n",
       "1974420  Debt collection  This account was placed with XXXX XXXX XXXX XX...\n",
       "1514973  Debt collection  I 've just chosen the largest umbrella issue t...\n",
       "1291075  Debt collection  On Thursday XX/XX/XXXX a suspicious charge to ...\n",
       "3510356  Debt collection  On XX/XX/2022, USCB AMERICA added a derogatory...\n",
       "...                  ...                                                ...\n",
       "66242    Debt collection  XX/XX/2022, I previously notified you that I a...\n",
       "1271584  Debt collection  I was a victim of violent crime. I am not resp...\n",
       "2837444  Debt collection  I recently pulled a copy of my credit report a...\n",
       "1851761  Debt collection  Transworld continues to hurt my credit by sayi...\n",
       "1245467  Debt collection  XXXX XXXX  XXXX XXXX XXXX XXXX XXXX XXXX XXXX ...\n",
       "\n",
       "[122 rows x 2 columns]"
      ]
     },
     "metadata": {},
     "output_type": "display_data"
    },
    {
     "name": "stdout",
     "output_type": "stream",
     "text": [
      "\n",
      "'Credit reporting, repair, or other' predicted as 'Debt collection' : 58 examples.\n"
     ]
    },
    {
     "data": {
      "text/html": [
       "<div>\n",
       "<style scoped>\n",
       "    .dataframe tbody tr th:only-of-type {\n",
       "        vertical-align: middle;\n",
       "    }\n",
       "\n",
       "    .dataframe tbody tr th {\n",
       "        vertical-align: top;\n",
       "    }\n",
       "\n",
       "    .dataframe thead th {\n",
       "        text-align: right;\n",
       "    }\n",
       "</style>\n",
       "<table border=\"1\" class=\"dataframe\">\n",
       "  <thead>\n",
       "    <tr style=\"text-align: right;\">\n",
       "      <th></th>\n",
       "      <th>Product</th>\n",
       "      <th>Consumer_complaint</th>\n",
       "    </tr>\n",
       "  </thead>\n",
       "  <tbody>\n",
       "    <tr>\n",
       "      <th>1008602</th>\n",
       "      <td>Credit reporting, repair, or other</td>\n",
       "      <td>I have ask CRA to provide verification of this...</td>\n",
       "    </tr>\n",
       "    <tr>\n",
       "      <th>2669059</th>\n",
       "      <td>Credit reporting, repair, or other</td>\n",
       "      <td>Greetings, XXXX and Capital One Violated my co...</td>\n",
       "    </tr>\n",
       "    <tr>\n",
       "      <th>1262410</th>\n",
       "      <td>Credit reporting, repair, or other</td>\n",
       "      <td>XXXX has sent I the consumer several letters s...</td>\n",
       "    </tr>\n",
       "    <tr>\n",
       "      <th>2962304</th>\n",
       "      <td>Credit reporting, repair, or other</td>\n",
       "      <td>XXXX XXXX  made the statement in their respons...</td>\n",
       "    </tr>\n",
       "    <tr>\n",
       "      <th>418984</th>\n",
       "      <td>Credit reporting, repair, or other</td>\n",
       "      <td>I have XXXX XXXX accounts on my credit report ...</td>\n",
       "    </tr>\n",
       "    <tr>\n",
       "      <th>3024191</th>\n",
       "      <td>Credit reporting, repair, or other</td>\n",
       "      <td>the company XXXX who in charge the work out wo...</td>\n",
       "    </tr>\n",
       "    <tr>\n",
       "      <th>1452216</th>\n",
       "      <td>Credit reporting, repair, or other</td>\n",
       "      <td>I called to make Equifax on X/XX/2017 to get a...</td>\n",
       "    </tr>\n",
       "    <tr>\n",
       "      <th>2131545</th>\n",
       "      <td>Credit reporting, repair, or other</td>\n",
       "      <td>On Friday, XX/XX/2019, I retrieved a copy of m...</td>\n",
       "    </tr>\n",
       "    <tr>\n",
       "      <th>840040</th>\n",
       "      <td>Credit reporting, repair, or other</td>\n",
       "      <td>I was going through my credit report and I saw...</td>\n",
       "    </tr>\n",
       "    <tr>\n",
       "      <th>238861</th>\n",
       "      <td>Credit reporting, repair, or other</td>\n",
       "      <td>This is illegal I will take that XXXX XXXX dol...</td>\n",
       "    </tr>\n",
       "    <tr>\n",
       "      <th>796714</th>\n",
       "      <td>Credit reporting, repair, or other</td>\n",
       "      <td>To whom it may concern, I noticed on my credit...</td>\n",
       "    </tr>\n",
       "    <tr>\n",
       "      <th>1047789</th>\n",
       "      <td>Credit reporting, repair, or other</td>\n",
       "      <td>IC Systems accounts : XXXX XXXX XXXX IC system...</td>\n",
       "    </tr>\n",
       "    <tr>\n",
       "      <th>936121</th>\n",
       "      <td>Credit reporting, repair, or other</td>\n",
       "      <td>There are two accounts reported by XXXX XXXX X...</td>\n",
       "    </tr>\n",
       "    <tr>\n",
       "      <th>624780</th>\n",
       "      <td>Credit reporting, repair, or other</td>\n",
       "      <td>In XXXX of 2017 I turned in a lease early beca...</td>\n",
       "    </tr>\n",
       "    <tr>\n",
       "      <th>1847927</th>\n",
       "      <td>Credit reporting, repair, or other</td>\n",
       "      <td>There is a collection company reporting on my ...</td>\n",
       "    </tr>\n",
       "    <tr>\n",
       "      <th>508931</th>\n",
       "      <td>Credit reporting, repair, or other</td>\n",
       "      <td>MY PURPOSE OF THIS COMPLAINT ISN'T TO GET THIS...</td>\n",
       "    </tr>\n",
       "    <tr>\n",
       "      <th>160625</th>\n",
       "      <td>Credit reporting, repair, or other</td>\n",
       "      <td>I have been disputing this inaccurate account ...</td>\n",
       "    </tr>\n",
       "    <tr>\n",
       "      <th>931815</th>\n",
       "      <td>Credit reporting, repair, or other</td>\n",
       "      <td>I have inquiries that are the result of fraudu...</td>\n",
       "    </tr>\n",
       "    <tr>\n",
       "      <th>1623628</th>\n",
       "      <td>Credit reporting, repair, or other</td>\n",
       "      <td>I requested vailadation on XX/XX/XXXX from XXX...</td>\n",
       "    </tr>\n",
       "    <tr>\n",
       "      <th>117677</th>\n",
       "      <td>Credit reporting, repair, or other</td>\n",
       "      <td>On XX/XX/2019 I sent Diversified a cease and d...</td>\n",
       "    </tr>\n",
       "    <tr>\n",
       "      <th>3317168</th>\n",
       "      <td>Credit reporting, repair, or other</td>\n",
       "      <td>THE STATEMENT BELOW IS NOT A DUPLICATE COMPLAI...</td>\n",
       "    </tr>\n",
       "    <tr>\n",
       "      <th>866723</th>\n",
       "      <td>Credit reporting, repair, or other</td>\n",
       "      <td>This account has been paid for and nobody want...</td>\n",
       "    </tr>\n",
       "    <tr>\n",
       "      <th>1923768</th>\n",
       "      <td>Credit reporting, repair, or other</td>\n",
       "      <td>XXXX XXXX XXXX released protected health infor...</td>\n",
       "    </tr>\n",
       "    <tr>\n",
       "      <th>452364</th>\n",
       "      <td>Credit reporting, repair, or other</td>\n",
       "      <td>I filed a dispute with the credit reporting ag...</td>\n",
       "    </tr>\n",
       "    <tr>\n",
       "      <th>2025291</th>\n",
       "      <td>Credit reporting, repair, or other</td>\n",
       "      <td>I have received correspondence from these two ...</td>\n",
       "    </tr>\n",
       "    <tr>\n",
       "      <th>1721318</th>\n",
       "      <td>Credit reporting, repair, or other</td>\n",
       "      <td>I recently checked my credit score for the fir...</td>\n",
       "    </tr>\n",
       "    <tr>\n",
       "      <th>1410714</th>\n",
       "      <td>Credit reporting, repair, or other</td>\n",
       "      <td>I submitted a Debt Validation Request to XXXX,...</td>\n",
       "    </tr>\n",
       "    <tr>\n",
       "      <th>2596709</th>\n",
       "      <td>Credit reporting, repair, or other</td>\n",
       "      <td>On XX/XX/2020, EXPRESS RECOVERY SER add a coll...</td>\n",
       "    </tr>\n",
       "    <tr>\n",
       "      <th>1206591</th>\n",
       "      <td>Credit reporting, repair, or other</td>\n",
       "      <td>1. REGISTER LETTER NUMBER ( S ) : RE XXXX US ;...</td>\n",
       "    </tr>\n",
       "    <tr>\n",
       "      <th>1640582</th>\n",
       "      <td>Credit reporting, repair, or other</td>\n",
       "      <td>I received a call from XXXX XXXX XXXX and they...</td>\n",
       "    </tr>\n",
       "    <tr>\n",
       "      <th>1928171</th>\n",
       "      <td>Credit reporting, repair, or other</td>\n",
       "      <td>XXXX. XXXX, XXXX. \\nXXXX  XXXX XXXX XXXX XXXX,...</td>\n",
       "    </tr>\n",
       "    <tr>\n",
       "      <th>1328625</th>\n",
       "      <td>Credit reporting, repair, or other</td>\n",
       "      <td>Recently I discovered after reviewing my credi...</td>\n",
       "    </tr>\n",
       "    <tr>\n",
       "      <th>975615</th>\n",
       "      <td>Credit reporting, repair, or other</td>\n",
       "      <td>I was contacted by letter by Fidelity Creditor...</td>\n",
       "    </tr>\n",
       "    <tr>\n",
       "      <th>554449</th>\n",
       "      <td>Credit reporting, repair, or other</td>\n",
       "      <td>XXXX  refuses to delete a negative item even t...</td>\n",
       "    </tr>\n",
       "    <tr>\n",
       "      <th>1013970</th>\n",
       "      <td>Credit reporting, repair, or other</td>\n",
       "      <td>I do NOT have a signed contract nor any contra...</td>\n",
       "    </tr>\n",
       "    <tr>\n",
       "      <th>143945</th>\n",
       "      <td>Credit reporting, repair, or other</td>\n",
       "      <td>I notice a company called Upgrade has been rep...</td>\n",
       "    </tr>\n",
       "    <tr>\n",
       "      <th>870017</th>\n",
       "      <td>Credit reporting, repair, or other</td>\n",
       "      <td>I paid Elvate Recoverie XX/XX/2021, I settled ...</td>\n",
       "    </tr>\n",
       "    <tr>\n",
       "      <th>518239</th>\n",
       "      <td>Credit reporting, repair, or other</td>\n",
       "      <td>Company has violated the Fair Debt Collection ...</td>\n",
       "    </tr>\n",
       "    <tr>\n",
       "      <th>1332584</th>\n",
       "      <td>Credit reporting, repair, or other</td>\n",
       "      <td>CNAC is a finance company in XXXX MI with XXXX...</td>\n",
       "    </tr>\n",
       "    <tr>\n",
       "      <th>2707553</th>\n",
       "      <td>Credit reporting, repair, or other</td>\n",
       "      <td>This is not my account.</td>\n",
       "    </tr>\n",
       "    <tr>\n",
       "      <th>2044512</th>\n",
       "      <td>Credit reporting, repair, or other</td>\n",
       "      <td>I sent several letters starting  XXXX   XXXX ,...</td>\n",
       "    </tr>\n",
       "    <tr>\n",
       "      <th>2414607</th>\n",
       "      <td>Credit reporting, repair, or other</td>\n",
       "      <td>THIS IS NOT A DUPLICATE COMPLAINT This is Addi...</td>\n",
       "    </tr>\n",
       "    <tr>\n",
       "      <th>592203</th>\n",
       "      <td>Credit reporting, repair, or other</td>\n",
       "      <td>XX/XX/XXXX {$600.00} I have contacted Experian...</td>\n",
       "    </tr>\n",
       "    <tr>\n",
       "      <th>400713</th>\n",
       "      <td>Credit reporting, repair, or other</td>\n",
       "      <td>Hello, on XX/XX/XXXX I was notified by a poten...</td>\n",
       "    </tr>\n",
       "    <tr>\n",
       "      <th>438278</th>\n",
       "      <td>Credit reporting, repair, or other</td>\n",
       "      <td>Various information and accounts are fraudulan...</td>\n",
       "    </tr>\n",
       "    <tr>\n",
       "      <th>1116262</th>\n",
       "      <td>Credit reporting, repair, or other</td>\n",
       "      <td>AMSHER COLLECTION SERVICES HAS MY PARTNERS BUS...</td>\n",
       "    </tr>\n",
       "    <tr>\n",
       "      <th>2863675</th>\n",
       "      <td>Credit reporting, repair, or other</td>\n",
       "      <td>XXXX XXXX -- -- I am not aware of this debt I ...</td>\n",
       "    </tr>\n",
       "    <tr>\n",
       "      <th>1456419</th>\n",
       "      <td>Credit reporting, repair, or other</td>\n",
       "      <td>RE : XXXX XXXX  : BACK IN XX/XX/XXXXXX/XX/XXXX...</td>\n",
       "    </tr>\n",
       "    <tr>\n",
       "      <th>2790960</th>\n",
       "      <td>Credit reporting, repair, or other</td>\n",
       "      <td>XX/XX/2016 Amount : {$180.00} Action Taken : I...</td>\n",
       "    </tr>\n",
       "    <tr>\n",
       "      <th>836790</th>\n",
       "      <td>Credit reporting, repair, or other</td>\n",
       "      <td>I reached out to the Credit Bureau over a mont...</td>\n",
       "    </tr>\n",
       "    <tr>\n",
       "      <th>228237</th>\n",
       "      <td>Credit reporting, repair, or other</td>\n",
       "      <td>Bought a new car from Santander consumer USA a...</td>\n",
       "    </tr>\n",
       "    <tr>\n",
       "      <th>1180982</th>\n",
       "      <td>Credit reporting, repair, or other</td>\n",
       "      <td>XXXX XXXX XXXX, a debt collection firm, has re...</td>\n",
       "    </tr>\n",
       "    <tr>\n",
       "      <th>936636</th>\n",
       "      <td>Credit reporting, repair, or other</td>\n",
       "      <td>On XX/XX/20 I was talking to some XXXX XXXX XX...</td>\n",
       "    </tr>\n",
       "    <tr>\n",
       "      <th>904694</th>\n",
       "      <td>Credit reporting, repair, or other</td>\n",
       "      <td>This kind of account is placed as a charged of...</td>\n",
       "    </tr>\n",
       "    <tr>\n",
       "      <th>1153920</th>\n",
       "      <td>Credit reporting, repair, or other</td>\n",
       "      <td>Capital One XXXX credit card. \\nI have not use...</td>\n",
       "    </tr>\n",
       "    <tr>\n",
       "      <th>843950</th>\n",
       "      <td>Credit reporting, repair, or other</td>\n",
       "      <td>I am just amazed at what Key Bank sent me date...</td>\n",
       "    </tr>\n",
       "    <tr>\n",
       "      <th>58281</th>\n",
       "      <td>Credit reporting, repair, or other</td>\n",
       "      <td>In accordance with the Fair Credit Reporting A...</td>\n",
       "    </tr>\n",
       "    <tr>\n",
       "      <th>821560</th>\n",
       "      <td>Credit reporting, repair, or other</td>\n",
       "      <td>I ORDERED MY CREDIT REPORT AND SAW THIS COMPAN...</td>\n",
       "    </tr>\n",
       "  </tbody>\n",
       "</table>\n",
       "</div>"
      ],
      "text/plain": [
       "                                    Product   \n",
       "1008602  Credit reporting, repair, or other  \\\n",
       "2669059  Credit reporting, repair, or other   \n",
       "1262410  Credit reporting, repair, or other   \n",
       "2962304  Credit reporting, repair, or other   \n",
       "418984   Credit reporting, repair, or other   \n",
       "3024191  Credit reporting, repair, or other   \n",
       "1452216  Credit reporting, repair, or other   \n",
       "2131545  Credit reporting, repair, or other   \n",
       "840040   Credit reporting, repair, or other   \n",
       "238861   Credit reporting, repair, or other   \n",
       "796714   Credit reporting, repair, or other   \n",
       "1047789  Credit reporting, repair, or other   \n",
       "936121   Credit reporting, repair, or other   \n",
       "624780   Credit reporting, repair, or other   \n",
       "1847927  Credit reporting, repair, or other   \n",
       "508931   Credit reporting, repair, or other   \n",
       "160625   Credit reporting, repair, or other   \n",
       "931815   Credit reporting, repair, or other   \n",
       "1623628  Credit reporting, repair, or other   \n",
       "117677   Credit reporting, repair, or other   \n",
       "3317168  Credit reporting, repair, or other   \n",
       "866723   Credit reporting, repair, or other   \n",
       "1923768  Credit reporting, repair, or other   \n",
       "452364   Credit reporting, repair, or other   \n",
       "2025291  Credit reporting, repair, or other   \n",
       "1721318  Credit reporting, repair, or other   \n",
       "1410714  Credit reporting, repair, or other   \n",
       "2596709  Credit reporting, repair, or other   \n",
       "1206591  Credit reporting, repair, or other   \n",
       "1640582  Credit reporting, repair, or other   \n",
       "1928171  Credit reporting, repair, or other   \n",
       "1328625  Credit reporting, repair, or other   \n",
       "975615   Credit reporting, repair, or other   \n",
       "554449   Credit reporting, repair, or other   \n",
       "1013970  Credit reporting, repair, or other   \n",
       "143945   Credit reporting, repair, or other   \n",
       "870017   Credit reporting, repair, or other   \n",
       "518239   Credit reporting, repair, or other   \n",
       "1332584  Credit reporting, repair, or other   \n",
       "2707553  Credit reporting, repair, or other   \n",
       "2044512  Credit reporting, repair, or other   \n",
       "2414607  Credit reporting, repair, or other   \n",
       "592203   Credit reporting, repair, or other   \n",
       "400713   Credit reporting, repair, or other   \n",
       "438278   Credit reporting, repair, or other   \n",
       "1116262  Credit reporting, repair, or other   \n",
       "2863675  Credit reporting, repair, or other   \n",
       "1456419  Credit reporting, repair, or other   \n",
       "2790960  Credit reporting, repair, or other   \n",
       "836790   Credit reporting, repair, or other   \n",
       "228237   Credit reporting, repair, or other   \n",
       "1180982  Credit reporting, repair, or other   \n",
       "936636   Credit reporting, repair, or other   \n",
       "904694   Credit reporting, repair, or other   \n",
       "1153920  Credit reporting, repair, or other   \n",
       "843950   Credit reporting, repair, or other   \n",
       "58281    Credit reporting, repair, or other   \n",
       "821560   Credit reporting, repair, or other   \n",
       "\n",
       "                                        Consumer_complaint  \n",
       "1008602  I have ask CRA to provide verification of this...  \n",
       "2669059  Greetings, XXXX and Capital One Violated my co...  \n",
       "1262410  XXXX has sent I the consumer several letters s...  \n",
       "2962304  XXXX XXXX  made the statement in their respons...  \n",
       "418984   I have XXXX XXXX accounts on my credit report ...  \n",
       "3024191  the company XXXX who in charge the work out wo...  \n",
       "1452216  I called to make Equifax on X/XX/2017 to get a...  \n",
       "2131545  On Friday, XX/XX/2019, I retrieved a copy of m...  \n",
       "840040   I was going through my credit report and I saw...  \n",
       "238861   This is illegal I will take that XXXX XXXX dol...  \n",
       "796714   To whom it may concern, I noticed on my credit...  \n",
       "1047789  IC Systems accounts : XXXX XXXX XXXX IC system...  \n",
       "936121   There are two accounts reported by XXXX XXXX X...  \n",
       "624780   In XXXX of 2017 I turned in a lease early beca...  \n",
       "1847927  There is a collection company reporting on my ...  \n",
       "508931   MY PURPOSE OF THIS COMPLAINT ISN'T TO GET THIS...  \n",
       "160625   I have been disputing this inaccurate account ...  \n",
       "931815   I have inquiries that are the result of fraudu...  \n",
       "1623628  I requested vailadation on XX/XX/XXXX from XXX...  \n",
       "117677   On XX/XX/2019 I sent Diversified a cease and d...  \n",
       "3317168  THE STATEMENT BELOW IS NOT A DUPLICATE COMPLAI...  \n",
       "866723   This account has been paid for and nobody want...  \n",
       "1923768  XXXX XXXX XXXX released protected health infor...  \n",
       "452364   I filed a dispute with the credit reporting ag...  \n",
       "2025291  I have received correspondence from these two ...  \n",
       "1721318  I recently checked my credit score for the fir...  \n",
       "1410714  I submitted a Debt Validation Request to XXXX,...  \n",
       "2596709  On XX/XX/2020, EXPRESS RECOVERY SER add a coll...  \n",
       "1206591  1. REGISTER LETTER NUMBER ( S ) : RE XXXX US ;...  \n",
       "1640582  I received a call from XXXX XXXX XXXX and they...  \n",
       "1928171  XXXX. XXXX, XXXX. \\nXXXX  XXXX XXXX XXXX XXXX,...  \n",
       "1328625  Recently I discovered after reviewing my credi...  \n",
       "975615   I was contacted by letter by Fidelity Creditor...  \n",
       "554449   XXXX  refuses to delete a negative item even t...  \n",
       "1013970  I do NOT have a signed contract nor any contra...  \n",
       "143945   I notice a company called Upgrade has been rep...  \n",
       "870017   I paid Elvate Recoverie XX/XX/2021, I settled ...  \n",
       "518239   Company has violated the Fair Debt Collection ...  \n",
       "1332584  CNAC is a finance company in XXXX MI with XXXX...  \n",
       "2707553                            This is not my account.  \n",
       "2044512  I sent several letters starting  XXXX   XXXX ,...  \n",
       "2414607  THIS IS NOT A DUPLICATE COMPLAINT This is Addi...  \n",
       "592203   XX/XX/XXXX {$600.00} I have contacted Experian...  \n",
       "400713   Hello, on XX/XX/XXXX I was notified by a poten...  \n",
       "438278   Various information and accounts are fraudulan...  \n",
       "1116262  AMSHER COLLECTION SERVICES HAS MY PARTNERS BUS...  \n",
       "2863675  XXXX XXXX -- -- I am not aware of this debt I ...  \n",
       "1456419  RE : XXXX XXXX  : BACK IN XX/XX/XXXXXX/XX/XXXX...  \n",
       "2790960  XX/XX/2016 Amount : {$180.00} Action Taken : I...  \n",
       "836790   I reached out to the Credit Bureau over a mont...  \n",
       "228237   Bought a new car from Santander consumer USA a...  \n",
       "1180982  XXXX XXXX XXXX, a debt collection firm, has re...  \n",
       "936636   On XX/XX/20 I was talking to some XXXX XXXX XX...  \n",
       "904694   This kind of account is placed as a charged of...  \n",
       "1153920  Capital One XXXX credit card. \\nI have not use...  \n",
       "843950   I am just amazed at what Key Bank sent me date...  \n",
       "58281    In accordance with the Fair Credit Reporting A...  \n",
       "821560   I ORDERED MY CREDIT REPORT AND SAW THIS COMPAN...  "
      ]
     },
     "metadata": {},
     "output_type": "display_data"
    },
    {
     "name": "stdout",
     "output_type": "stream",
     "text": [
      "\n"
     ]
    }
   ],
   "source": [
    "for predicted in category_id_df.category_id:\n",
    "  for actual in category_id_df.category_id:\n",
    "    if predicted != actual and conf_mat[actual, predicted] >= 20:\n",
    "      print(\"'{}' predicted as '{}' : {} examples.\".format(id_to_category[actual], \n",
    "                                                           id_to_category[predicted], \n",
    "                                                           conf_mat[actual, predicted]))\n",
    "    \n",
    "      display(df2.loc[indices_test[(y_test == actual) & (y_pred == predicted)]][['Product', \n",
    "                                                                'Consumer_complaint']])\n",
    "      print('')"
   ]
  },
  {
   "cell_type": "markdown",
   "metadata": {},
   "source": [
    "#### Most correlated terms with each category"
   ]
  },
  {
   "cell_type": "code",
   "execution_count": 22,
   "metadata": {},
   "outputs": [
    {
     "name": "stdout",
     "output_type": "stream",
     "text": [
      "\n",
      "==> 'Consumer Loan':\n",
      "  * Top unigrams: vehicle, car, 99, loan\n",
      "  * Top bigrams: capital auto, santander consumer, repeatedly asked, took loan\n",
      "\n",
      "==> 'Credit reporting, repair, or other':\n",
      "  * Top unigrams: experian, transunion, equifax, report\n",
      "  * Top bigrams: debt debt, xxxx xxxx, xxxx equifax, payments time\n",
      "\n",
      "==> 'Debt collection':\n",
      "  * Top unigrams: debt, collection, associates, collect\n",
      "  * Top bigrams: reporting negative, validate inaccurate, sold debt, appeared credit\n",
      "\n",
      "==> 'Mortgage':\n",
      "  * Top unigrams: mortgage, escrow, ocwen, home\n",
      "  * Top bigrams: mortgage company, wells fargo, mortgage xxxx, escrow account\n"
     ]
    }
   ],
   "source": [
    "model.fit(features, labels)\n",
    "\n",
    "N = 4\n",
    "for Product, category_id in sorted(category_to_id.items()):\n",
    "  indices = np.argsort(model.coef_[category_id])\n",
    "  feature_names = np.array(tfidf.get_feature_names())[indices]\n",
    "  unigrams = [v for v in reversed(feature_names) if len(v.split(' ')) == 1][:N]\n",
    "  bigrams = [v for v in reversed(feature_names) if len(v.split(' ')) == 2][:N]\n",
    "  print(\"\\n==> '{}':\".format(Product))\n",
    "  print(\"  * Top unigrams: %s\" %(', '.join(unigrams)))\n",
    "  print(\"  * Top bigrams: %s\" %(', '.join(bigrams)))"
   ]
  },
  {
   "cell_type": "markdown",
   "metadata": {},
   "source": [
    "<a id='pred'></a>\n",
    "## Predictions\n",
    "\n",
    "Now let's make a few predictions on unseen data.<br>"
   ]
  },
  {
   "cell_type": "code",
   "execution_count": 23,
   "metadata": {},
   "outputs": [],
   "source": [
    "X_train, X_test, y_train, y_test = train_test_split(X, y, \n",
    "                                                    test_size=0.25,\n",
    "                                                    random_state = 0)\n",
    "\n",
    "tfidf = TfidfVectorizer(sublinear_tf=True, min_df=5,\n",
    "                        ngram_range=(1, 2), \n",
    "                        stop_words='english')\n",
    "\n",
    "fitted_vectorizer = tfidf.fit(X_train)\n",
    "tfidf_vectorizer_vectors = fitted_vectorizer.transform(X_train)\n",
    "\n",
    "model = LinearSVC().fit(tfidf_vectorizer_vectors, y_train)"
   ]
  },
  {
   "cell_type": "markdown",
   "metadata": {},
   "source": [
    "Classification on new complaint."
   ]
  },
  {
   "cell_type": "code",
   "execution_count": 24,
   "metadata": {},
   "outputs": [
    {
     "name": "stdout",
     "output_type": "stream",
     "text": [
      "['Credit reporting, repair, or other']\n"
     ]
    }
   ],
   "source": [
    "new_complaint_1 = \"\"\"Equifax exposed my personal information without my consent, as part of their recent data breach. \\\n",
    "In addition, they dragged their feet in the announcement of the report, and even allowed their upper management to sell \\\n",
    "off stock before the announcement.\"\"\"\n",
    "print(model.predict(fitted_vectorizer.transform([new_complaint_1])))"
   ]
  },
  {
   "cell_type": "code",
   "execution_count": 26,
   "metadata": {},
   "outputs": [
    {
     "data": {
      "text/html": [
       "<div>\n",
       "<style scoped>\n",
       "    .dataframe tbody tr th:only-of-type {\n",
       "        vertical-align: middle;\n",
       "    }\n",
       "\n",
       "    .dataframe tbody tr th {\n",
       "        vertical-align: top;\n",
       "    }\n",
       "\n",
       "    .dataframe thead th {\n",
       "        text-align: right;\n",
       "    }\n",
       "</style>\n",
       "<table border=\"1\" class=\"dataframe\">\n",
       "  <thead>\n",
       "    <tr style=\"text-align: right;\">\n",
       "      <th></th>\n",
       "      <th>Product</th>\n",
       "      <th>Consumer_complaint</th>\n",
       "    </tr>\n",
       "  </thead>\n",
       "  <tbody>\n",
       "    <tr>\n",
       "      <th>785303</th>\n",
       "      <td>Credit reporting, credit repair services, or o...</td>\n",
       "      <td>Equifax exposed my personal information withou...</td>\n",
       "    </tr>\n",
       "  </tbody>\n",
       "</table>\n",
       "</div>"
      ],
      "text/plain": [
       "                                                  Product   \n",
       "785303  Credit reporting, credit repair services, or o...  \\\n",
       "\n",
       "                                       Consumer_complaint  \n",
       "785303  Equifax exposed my personal information withou...  "
      ]
     },
     "execution_count": 26,
     "metadata": {},
     "output_type": "execute_result"
    }
   ],
   "source": [
    "df3=df1[df1['Consumer_complaint'] == new_complaint_1]\n",
    "df3"
   ]
  },
  {
   "cell_type": "code",
   "execution_count": null,
   "metadata": {},
   "outputs": [],
   "source": []
  }
 ],
 "metadata": {
  "kernelspec": {
   "display_name": "Python 3 (ipykernel)",
   "language": "python",
   "name": "python3"
  },
  "language_info": {
   "codemirror_mode": {
    "name": "ipython",
    "version": 3
   },
   "file_extension": ".py",
   "mimetype": "text/x-python",
   "name": "python",
   "nbconvert_exporter": "python",
   "pygments_lexer": "ipython3",
   "version": "3.9.13"
  }
 },
 "nbformat": 4,
 "nbformat_minor": 1
}
